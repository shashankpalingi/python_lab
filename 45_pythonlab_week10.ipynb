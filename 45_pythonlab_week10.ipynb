{
 "cells": [
  {
   "cell_type": "code",
   "execution_count": 3,
   "id": "4e4db9f8-9971-41c5-9f41-3738c1afc8e0",
   "metadata": {},
   "outputs": [
    {
     "ename": "SyntaxError",
     "evalue": "positional argument follows keyword argument (547866595.py, line 19)",
     "output_type": "error",
     "traceback": [
      "\u001b[1;36m  Cell \u001b[1;32mIn[3], line 19\u001b[1;36m\u001b[0m\n\u001b[1;33m    s=pd.Series(a,index= 'a','b','c')\u001b[0m\n\u001b[1;37m                                    ^\u001b[0m\n\u001b[1;31mSyntaxError\u001b[0m\u001b[1;31m:\u001b[0m positional argument follows keyword argument\n"
     ]
    }
   ],
   "source": [
    "#1. Import Pandas and Plotpy and explore their functionalities.\n",
    "import pandas as pd\n",
    "\n",
    "#Pandas Series:\n",
    "import pandas as pd\n",
    "a=[1,2,3]\n",
    "s=pd.series(a)\n",
    "print(s)\n",
    "\n",
    "#Labels:\n",
    "import pandas as pd \n",
    "a=[1,2,3] \n",
    "s=pd.Series(a) \n",
    "print(s[0])\n",
    "\n",
    "#Creating Labels:\n",
    "import pandas as pd\n",
    "a=[1,2,3] \n",
    "s=pd.Series(a,index= 'a','b','c')\n",
    "print(s)\n",
    "\n",
    "#Plotpy\n",
    "import matplotlib.pyplot as plt\n",
    "\n",
    "#Matplotlib Line Plot:\n",
    "#Program:\n",
    "import matplotlib.pyplot as plt\n",
    "import numpy as np\n",
    "xpoints = np.array([0, 6])\n",
    "ypoints = np.array([0, 250])\n",
    "plt.plot(xpoints, ypoints)\n",
    "plt.show()\n"
   ]
  },
  {
   "cell_type": "code",
   "execution_count": null,
   "id": "02e9b6ad-02f2-4630-8327-fca2570cd67d",
   "metadata": {},
   "outputs": [],
   "source": []
  }
 ],
 "metadata": {
  "kernelspec": {
   "display_name": "Python 3 (ipykernel)",
   "language": "python",
   "name": "python3"
  },
  "language_info": {
   "codemirror_mode": {
    "name": "ipython",
    "version": 3
   },
   "file_extension": ".py",
   "mimetype": "text/x-python",
   "name": "python",
   "nbconvert_exporter": "python",
   "pygments_lexer": "ipython3",
   "version": "3.12.3"
  }
 },
 "nbformat": 4,
 "nbformat_minor": 5
}
