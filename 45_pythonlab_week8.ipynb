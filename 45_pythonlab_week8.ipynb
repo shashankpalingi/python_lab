{
 "cells": [
  {
   "cell_type": "code",
   "execution_count": 1,
   "id": "cfb3b0b1-02f6-40f3-aa4d-5c7dbb3b4204",
   "metadata": {},
   "outputs": [],
   "source": [
    "#1. Write a Python code to merge two given file contents into a third file. \n",
    "#Program:\n",
    "file1=open(\"t1.txt\",\"w\",encoding=\"utf-8\")\n",
    "file2=open(\"t2.txt\",\"w\")\n",
    "file1.write(\"hello\")\n",
    "file2.write(\"world!\")\n",
    "file1.close()\n",
    "file2.close()\n",
    "file1=open(\"t1.txt\",\"r\")\n",
    "data1=file1.read()\n",
    "file2=open(\"t2.txt\",\"r\")\n",
    "data2=file2.read()\n",
    "file1.close()\n",
    "file2.close()\n",
    "file3=open(\"t3.txt\",\"w\")\n",
    "file3.write(data1+\" \"+data2)\n",
    "file3.close()\n",
    "file3=open(\"t3.txt\",\"r\")\n",
    "data=file3.read()\n",
    "file3.close()\n"
   ]
  },
  {
   "cell_type": "code",
   "execution_count": 2,
   "id": "4054fc2d-2244-44c9-9a01-833c4ee4e3e1",
   "metadata": {},
   "outputs": [
    {
     "name": "stdin",
     "output_type": "stream",
     "text": [
      "Enter word to be searched: t3\n"
     ]
    },
    {
     "name": "stdout",
     "output_type": "stream",
     "text": [
      "not found\n"
     ]
    }
   ],
   "source": [
    "#2. Write a Python code to open a given file and construct a function to check for given words present in it and display on found.\n",
    "#Program:\n",
    "file=open(\"t3.txt\",\"r\")\n",
    "data=file.read()                  #t3.txt: hello world!\n",
    "file.close()\n",
    "def check_word(data,word):\n",
    "    \n",
    "    words=data.split(\" \")\n",
    "    for i in words:\n",
    "        if word==i:\n",
    "            print(\"word found\")\n",
    "            break\n",
    "    else:\n",
    "            print(\"not found\")\n",
    "word=input(\"Enter word to be searched:\")\n",
    "check_word(data,word)\n",
    "\n"
   ]
  },
  {
   "cell_type": "code",
   "execution_count": 3,
   "id": "e1e1def1-f7f4-4094-a8f7-671981d4f2b2",
   "metadata": {},
   "outputs": [
    {
     "name": "stdout",
     "output_type": "stream",
     "text": [
      "Most repeated word: t3\n"
     ]
    }
   ],
   "source": [
    " #3. Write a Python code to Read text from a text file, find the word with most number of occurrences.\n",
    "#Program:\n",
    "count=0\n",
    "max_count=0\n",
    "words=[]\n",
    "file=open(\"t1.txt\",\"r\")    # apple banana apple mango banana mango orange mango\n",
    "for line in file:\n",
    "    string=line.lower().replace(',','').replace('.','').split(\" \")\n",
    "    for s in string:\n",
    "        words.append(s)\n",
    "for i in range (0,len(words)):\n",
    "    count=1\n",
    "    for j in range (i+1,len(words)):\n",
    "        if words[i]==words[j]:\n",
    "            count=count+1\n",
    "        if count>max_count:\n",
    "            max_count=count\n",
    "            word=words[i]\n",
    "print(\"Most repeated word:\",word)\n"
   ]
  },
  {
   "cell_type": "code",
   "execution_count": 7,
   "id": "c9b21567-10c9-4627-b8c6-6c4392c06bd6",
   "metadata": {},
   "outputs": [],
   "source": [
    "#4. Write a function that reads a file file1 and displays the number of words, number of vowels, blank spaces, lower case letters and uppercase letters.\n",
    "#Program:\n",
    "file1 = open(\"t1.txt\", \"r\")\n",
    "data=file1.read()  #hello world\n",
    "file1.close()\n",
    "def diaplay():\n",
    "    vowel= 0\n",
    "    space=0\n",
    "    con=0\n",
    "    lower=0\n",
    "    upper=0\n",
    "    vowels = ['a', 'e', 'i', 'o', 'u', 'A', 'E', 'I', 'O', 'U']\n",
    "    words=data.split()\n",
    "    print(\"Total words:\",len(words))\n",
    "    for letter in data:\n",
    "        if letter in vowels:\n",
    "            vowel = vowel+1\n",
    "        elif letter==\" \":\n",
    "                space=space+1\n",
    "        else:\n",
    "            con=con+1\n",
    "        if letter.islower():\n",
    "            lower=lower+1\n",
    "        if letter.isupper():\n",
    "            upper=upper+1\n",
    "\n",
    "    print(\"Total Vowels:\")\n",
    "    print(vowel)\n",
    "    print(\"Total con:\")\n",
    "    print(con)\n",
    "    print(\"Total lower:\")\n",
    "    print(lower)\n",
    "    print(\"Total upper:\")\n",
    "    print(upper)\n",
    "    print(\"Total space:\")\n",
    "    print(space)\n",
    "display()\n"
   ]
  },
  {
   "cell_type": "code",
   "execution_count": null,
   "id": "31403be6-4082-46cc-9f1d-ae9ee348d386",
   "metadata": {},
   "outputs": [],
   "source": [
    "#5. Write a program to print each line of a file in reverse order.\n",
    "#Program:\n",
    "file = open (\"text.txt\",\"r\")\n",
    "r=file.read()\n",
    "word=r.split() \n",
    "print(word)\n",
    "l1 =[]\n",
    "for i in word:\n",
    "    l1.append(i[::-1])\n",
    "print (l1)\n"
   ]
  }
 ],
 "metadata": {
  "kernelspec": {
   "display_name": "Python 3 (ipykernel)",
   "language": "python",
   "name": "python3"
  },
  "language_info": {
   "codemirror_mode": {
    "name": "ipython",
    "version": 3
   },
   "file_extension": ".py",
   "mimetype": "text/x-python",
   "name": "python",
   "nbconvert_exporter": "python",
   "pygments_lexer": "ipython3",
   "version": "3.12.3"
  }
 },
 "nbformat": 4,
 "nbformat_minor": 5
}
