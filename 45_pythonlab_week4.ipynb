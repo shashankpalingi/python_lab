{
 "cells": [
  {
   "cell_type": "code",
   "execution_count": 3,
   "id": "62b30e5e-1a3a-4a3b-a550-eacf0ba9da56",
   "metadata": {},
   "outputs": [
    {
     "name": "stdout",
     "output_type": "stream",
     "text": [
      "True\n",
      "False\n",
      "False\n"
     ]
    }
   ],
   "source": [
    "#1. Write a function called is_sorted that takes a list as a parameter and returns True if\n",
    "#    the list is sorted in ascending order and False otherwise.\n",
    "\n",
    "def is_sorted(lst):\n",
    "    return lst == sorted(lst)\n",
    "print(is_sorted([1, 2, 2]))  # True\n",
    "print(is_sorted(['b', 'a']))  # False\n",
    "print(is_sorted([1, 2, 3, 4, 0, 5, 6]))  # False"
   ]
  },
  {
   "cell_type": "code",
   "execution_count": 4,
   "id": "62727f88-aa40-4722-a381-881788799a65",
   "metadata": {},
   "outputs": [
    {
     "name": "stdout",
     "output_type": "stream",
     "text": [
      "True\n",
      "False\n",
      "False\n"
     ]
    }
   ],
   "source": [
    "#2. Write a function called has_duplicates that takes a list and returns True if there is any\n",
    "#   element that appears more than once. It should not modify the original list.\n",
    "\n",
    "def has_duplicates(lst):\n",
    "    return len(lst) != len(set(lst))\n",
    "\n",
    "print(has_duplicates([1, 2, 2, 3, 4, 5]))  # True\n",
    "print(has_duplicates(['a', 'b', 'c']))  # False\n",
    "print(has_duplicates([1, 2, 3, 4, 5, 6]))  # False"
   ]
  },
  {
   "cell_type": "code",
   "execution_count": 5,
   "id": "a084c05e-916f-4e95-b790-049f53efff51",
   "metadata": {},
   "outputs": [
    {
     "name": "stdout",
     "output_type": "stream",
     "text": [
      "[1, 2, 3, 4, 5]\n",
      "['b', 'c', 'a']\n",
      "[1, 2, 3, 4, 5, 6]\n"
     ]
    }
   ],
   "source": [
    "# 2.i) Write a function called remove_duplicates that takes a list and returns a new list\n",
    "# with only the unique elements from the original. Hint: they don’t have to be in the same order\n",
    "\n",
    "def remove_duplicates(lst):\n",
    "    return list(set(lst))\n",
    "\n",
    "print(remove_duplicates([1, 2, 2, 3, 4, 5]))  # [1, 2, 3, 4, 5]\n",
    "print(remove_duplicates(['a', 'b', 'c', 'c']))  # ['a', 'b', 'c']\n",
    "print(remove_duplicates([1, 2, 3, 4, 5, 6]))  # [1, 2, 3, 4, 5, 6]\n",
    "\n"
   ]
  },
  {
   "cell_type": "code",
   "execution_count": 6,
   "id": "d1e28588-a409-46f8-a289-6db1b90c3be5",
   "metadata": {},
   "outputs": [
    {
     "name": "stdout",
     "output_type": "stream",
     "text": [
      "Inverted dictionary:\n",
      "John: ['name']\n",
      "30: ['age']\n",
      "New York: ['city']\n",
      "USA: ['country']\n"
     ]
    }
   ],
   "source": [
    "# 2.iii). Write a python code to read dictionary values from the user. Construct a function to invert its content. \n",
    "\n",
    "def invert_dict(user_dict):\n",
    "   \n",
    "    inverted_dict = {}\n",
    "    for key, value in user_dict.items():\n",
    "        if value not in inverted_dict:\n",
    "            inverted_dict[value] = [key]\n",
    "        else:\n",
    "            inverted_dict[value].append(key)\n",
    "    return inverted_dict\n",
    "\n",
    "\n",
    "user_dict = {\n",
    "    'name': 'John',\n",
    "    'age': '30',\n",
    "    'city': 'New York',\n",
    "    'country': 'USA'\n",
    "}\n",
    "\n",
    "\n",
    "inverted_dict = invert_dict(user_dict)\n",
    "\n",
    "print(\"Inverted dictionary:\")\n",
    "for key, value in inverted_dict.items():\n",
    "    print(f\"{key}: {value}\")"
   ]
  },
  {
   "cell_type": "code",
   "execution_count": 7,
   "id": "b048d7fc-1fcc-4882-baf5-5e01931bc9a3",
   "metadata": {},
   "outputs": [
    {
     "name": "stdout",
     "output_type": "stream",
     "text": [
      "Original word: Apple\n",
      "Word with commas: A,p,p,l,e\n"
     ]
    }
   ],
   "source": [
    "#3. i) Add a comma between the characters. If the given word is 'Apple', it should become 'A,p,p,l,e'\n",
    "\n",
    "def add_commas(word):\n",
    "    return ','.join(word)\n",
    "\n",
    "word = 'Apple'\n",
    "comma_word = add_commas(word)\n",
    "\n",
    "print(f\"Original word: {word}\")\n",
    "print(f\"Word with commas: {comma_word}\")"
   ]
  },
  {
   "cell_type": "code",
   "execution_count": 8,
   "id": "63412434-3be1-4c6f-8154-aa2664458ff4",
   "metadata": {},
   "outputs": [
    {
     "name": "stdout",
     "output_type": "stream",
     "text": [
      "Original sentence: hello world this is a test\n",
      "Capitalized sentence: Hello World This Is A Test\n"
     ]
    }
   ],
   "source": [
    "# 3.iii) Write a function that takes a sentence as an input parameter and replaces the first letter of every word with the corresponding upper case letter\n",
    "#      and the rest of the letters in the word by corresponding letters in lower case without using a built-in function?\n",
    "\n",
    "def capitalize_words(sentence):\n",
    " \n",
    "    words = sentence.split()\n",
    "    capitalized_words = []  # Initialize an empty list to store the capitalized words\n",
    "\n",
    "    for word in words:\n",
    "        # For each word, capitalize the first letter and convert the rest to lower case\n",
    "        capitalized_word = word[0].upper() + word[1:].lower()\n",
    "        capitalized_words.append(capitalized_word)  # Add the capitalized word to the list\n",
    "\n",
    "    capitalized_sentence = ' '.join(capitalized_words)  # Join the capitalized words with spaces\n",
    "    return capitalized_sentence\n",
    "\n",
    "sentence = \"hello world this is a test\"\n",
    "capitalized_sentence = capitalize_words(sentence)\n",
    "\n",
    "print(f\"Original sentence: {sentence}\")\n",
    "print(f\"Capitalized sentence: {capitalized_sentence}\")"
   ]
  },
  {
   "cell_type": "code",
   "execution_count": 9,
   "id": "6ee867e1-6b96-4251-b6ba-a02c3fb4da06",
   "metadata": {},
   "outputs": [
    {
     "name": "stdout",
     "output_type": "stream",
     "text": [
      "All 3-bit binary strings:\n",
      "000\n",
      "001\n",
      "010\n",
      "011\n",
      "100\n",
      "101\n",
      "110\n",
      "111\n"
     ]
    }
   ],
   "source": [
    "# 4. Writes a recursive function that generates all binary strings of n-bit length\n",
    "\n",
    "def generate_binary_strings(n):\n",
    "    if n == 1:\n",
    "        return ['0', '1']\n",
    "    else:\n",
    "        shorter_strings = generate_binary_strings(n-1)\n",
    "        binary_strings = [f\"0{s}\" for s in shorter_strings] + [f\"1{s}\" for s in shorter_strings]\n",
    "        return binary_strings\n",
    "n = 3\n",
    "binary_strings = generate_binary_strings(n)\n",
    "print(f\"All {n}-bit binary strings:\")\n",
    "for s in binary_strings:\n",
    "    print(s)"
   ]
  },
  {
   "cell_type": "code",
   "execution_count": 10,
   "id": "248721a9-df1d-4c2c-8a77-4f0eab7bb1be",
   "metadata": {},
   "outputs": [
    {
     "name": "stdout",
     "output_type": "stream",
     "text": [
      "Set 1: {1, 2, 3, 4, 5}\n",
      "Set 2: {4, 5, 6, 7, 8}\n",
      "Union: {1, 2, 3, 4, 5, 6, 7, 8}\n",
      "Intersection: {4, 5}\n",
      "Difference: {1, 2, 3}\n",
      "Symmetric Difference: {1, 2, 3, 6, 7, 8}\n",
      "Is Subset: False\n",
      "Is Superset: False\n",
      "Is Disjoint: False\n"
     ]
    }
   ],
   "source": [
    "# 5. Write a Python program to implement all set operations\n",
    "def union(set1, set2):\n",
    "    return set1.union(set2)\n",
    "\n",
    "def intersection(set1, set2):\n",
    "    return set1.intersection(set2)\n",
    "\n",
    "def difference(set1, set2):\n",
    "    return set1.difference(set2)\n",
    "\n",
    "def symmetric_difference(set1, set2):\n",
    "    return set1.symmetric_difference(set2)\n",
    "\n",
    "def is_subset(set1, set2):\n",
    "    return set1.issubset(set2)\n",
    "\n",
    "def is_superset(set1, set2):\n",
    "    return set1.issuperset(set2)\n",
    "\n",
    "def is_disjoint(set1, set2):\n",
    "    return set1.isdisjoint(set2)\n",
    "\n",
    "set1 = {1, 2, 3, 4, 5}\n",
    "set2 = {4, 5, 6, 7, 8}\n",
    "\n",
    "print(\"Set 1:\", set1)\n",
    "print(\"Set 2:\", set2)\n",
    "\n",
    "print(\"Union:\", union(set1, set2))\n",
    "print(\"Intersection:\", intersection(set1, set2))\n",
    "print(\"Difference:\", difference(set1, set2))\n",
    "print(\"Symmetric Difference:\", symmetric_difference(set1, set2))\n",
    "print(\"Is Subset:\", is_subset(set1, set2))\n",
    "print(\"Is Superset:\", is_superset(set1, set2))\n",
    "print(\"Is Disjoint:\", is_disjoint(set1, set2))"
   ]
  },
  {
   "cell_type": "code",
   "execution_count": null,
   "id": "bd8ff0ec-67d0-4ba1-9245-a38fa5b70959",
   "metadata": {},
   "outputs": [],
   "source": [
    "# 6. Write a program to check whether a string is palindrome or not \n",
    "\n",
    "s = input(\"Enter a string: \")\n",
    "if s == s[::-1]:\n",
    "    print(\"The string is a palindrome.\")\n",
    "else:\n",
    "    print(\"The string is not a palindrome.\")"
   ]
  }
 ],
 "metadata": {
  "kernelspec": {
   "display_name": "Python 3 (ipykernel)",
   "language": "python",
   "name": "python3"
  },
  "language_info": {
   "codemirror_mode": {
    "name": "ipython",
    "version": 3
   },
   "file_extension": ".py",
   "mimetype": "text/x-python",
   "name": "python",
   "nbconvert_exporter": "python",
   "pygments_lexer": "ipython3",
   "version": "3.12.3"
  }
 },
 "nbformat": 4,
 "nbformat_minor": 5
}
