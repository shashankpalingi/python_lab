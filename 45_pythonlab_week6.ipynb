{
 "cells": [
  {
   "cell_type": "code",
   "execution_count": 2,
   "id": "b1225895-09dc-4beb-abe2-8a9c5b3a92a9",
   "metadata": {},
   "outputs": [
    {
     "name": "stdin",
     "output_type": "stream",
     "text": [
      "enter an number 5\n",
      "enter other number 0\n"
     ]
    },
    {
     "name": "stdout",
     "output_type": "stream",
     "text": [
      "Division by zero is not accepted\n"
     ]
    }
   ],
   "source": [
    "#1.\tWrite a program that detects an Exception\n",
    "#Program:\n",
    "try:\n",
    "    num1=int(input(\"enter an number\"))\n",
    "    num2=int(input(\"enter other number\"))\n",
    "    result=num1/num2\n",
    "    print(\"result:\",result)\n",
    "except ZeroDivisionError:\n",
    "    print(\"Division by zero is not accepted\")\n",
    "except ValueError:\n",
    "    print(\"enter only integers\")\n",
    "except Exception as e:\n",
    "    print(\"an error occured\",str(e))\n"
   ]
  },
  {
   "cell_type": "code",
   "execution_count": 3,
   "id": "d66267fb-f05a-4ebf-abbe-5c0bbfd9ea50",
   "metadata": {},
   "outputs": [
    {
     "name": "stdin",
     "output_type": "stream",
     "text": [
      "enter the age 21\n"
     ]
    },
    {
     "name": "stdout",
     "output_type": "stream",
     "text": [
      "valid age\n"
     ]
    }
   ],
   "source": [
    "#2.\tWrite a program that raise an Exception ( divide by zero error,voter’s age validity\n",
    "#Program:\n",
    "def voter_age(age):\n",
    "    try:\n",
    "        num=int(age)\n",
    "        if(num>18):\n",
    "            print(\"valid age\")\n",
    "        elif(num<18):\n",
    "            print(\"not a valid age\")\n",
    "    except Exception as e:\n",
    "        print(\"enter only integers:\",str(e))\n",
    "num=input(\"enter the age\")\n",
    "voter_age(num)\n"
   ]
  },
  {
   "cell_type": "code",
   "execution_count": 4,
   "id": "6fdd900a-6913-4217-9c2c-f7b928732141",
   "metadata": {},
   "outputs": [
    {
     "name": "stdin",
     "output_type": "stream",
     "text": [
      "enter students marks 99\n"
     ]
    },
    {
     "name": "stdout",
     "output_type": "stream",
     "text": [
      "valid number\n"
     ]
    }
   ],
   "source": [
    "#3.\tWrite a program that raise an Exception as string(), student mark range validation\n",
    "#Program:\n",
    "def students_mark(marks):\n",
    "    try:\n",
    "        num=int(marks)\n",
    "        if(num>0):\n",
    "            print(\"valid number\")\n",
    "        elif(num<0 or num==0):\n",
    "            print(\"not valid\")\n",
    "    except Exception as e:\n",
    "        print(\"enter only integers :\",str(e))\n",
    "num=input(\"enter students marks\")\n",
    "students_mark(num)\n"
   ]
  },
  {
   "cell_type": "code",
   "execution_count": 5,
   "id": "730223ae-7f76-4171-9904-3f3419753e46",
   "metadata": {},
   "outputs": [
    {
     "name": "stdin",
     "output_type": "stream",
     "text": [
      "enter a number 6\n",
      "enter other number 0\n"
     ]
    },
    {
     "name": "stdout",
     "output_type": "stream",
     "text": [
      "error occured : division by zero\n",
      "program completed successfully\n"
     ]
    }
   ],
   "source": [
    "#4.\tUse the structure of exception handling all general purpose exceptions.\n",
    "#Program:\n",
    "try:\n",
    "    num1=int(input(\"enter a number\"))\n",
    "    num2=int(input(\"enter other number\"))\n",
    "    result=num1/num2\n",
    "    print(\"result : \",result)\n",
    "except Exception as e:\n",
    "    print(\"error occured :\",str(e))\n",
    "else:\n",
    "    print(\"division successful\")\n",
    "finally:\n",
    "    print(\"program completed successfully\")\n"
   ]
  },
  {
   "cell_type": "code",
   "execution_count": null,
   "id": "b6b415bf-a134-4afe-841c-ddc7f2a3ca1f",
   "metadata": {},
   "outputs": [],
   "source": []
  }
 ],
 "metadata": {
  "kernelspec": {
   "display_name": "Python 3 (ipykernel)",
   "language": "python",
   "name": "python3"
  },
  "language_info": {
   "codemirror_mode": {
    "name": "ipython",
    "version": 3
   },
   "file_extension": ".py",
   "mimetype": "text/x-python",
   "name": "python",
   "nbconvert_exporter": "python",
   "pygments_lexer": "ipython3",
   "version": "3.12.3"
  }
 },
 "nbformat": 4,
 "nbformat_minor": 5
}
