{
 "cells": [
  {
   "cell_type": "code",
   "execution_count": 24,
   "id": "aad8ff58-02c7-4ce0-acb5-0e107b33d33a",
   "metadata": {},
   "outputs": [
    {
     "name": "stdout",
     "output_type": "stream",
     "text": [
      "3\n"
     ]
    }
   ],
   "source": [
    "l1 = [\"apple\", \"banana\", \"cherry\"]\n",
    "print(len(l1))"
   ]
  },
  {
   "cell_type": "code",
   "execution_count": 11,
   "id": "5a453e9d-b973-440a-999b-9ab57ec5d16a",
   "metadata": {},
   "outputs": [
    {
     "name": "stdout",
     "output_type": "stream",
     "text": [
      "['__add__', '__class__', '__class_getitem__', '__contains__', '__delattr__', '__delitem__', '__dir__', '__doc__', '__eq__', '__format__', '__ge__', '__getattribute__', '__getitem__', '__getstate__', '__gt__', '__hash__', '__iadd__', '__imul__', '__init__', '__init_subclass__', '__iter__', '__le__', '__len__', '__lt__', '__mul__', '__ne__', '__new__', '__reduce__', '__reduce_ex__', '__repr__', '__reversed__', '__rmul__', '__setattr__', '__setitem__', '__sizeof__', '__str__', '__subclasshook__', 'append', 'clear', 'copy', 'count', 'extend', 'index', 'insert', 'pop', 'remove', 'reverse', 'sort']\n"
     ]
    }
   ],
   "source": [
    "dir(list)\n",
    "print(dir(list))"
   ]
  },
  {
   "cell_type": "code",
   "execution_count": 13,
   "id": "ea5a7fa7-8b42-4dda-86df-c0341f5f5708",
   "metadata": {},
   "outputs": [
    {
     "name": "stdout",
     "output_type": "stream",
     "text": [
      "[8, 5, 4, 3, 1]\n"
     ]
    }
   ],
   "source": [
    "a=[1,3,4,5,8]\n",
    "a.reverse()\n",
    "print(a)"
   ]
  },
  {
   "cell_type": "code",
   "execution_count": 14,
   "id": "741f0368-fac3-454d-84dd-c67c6551895f",
   "metadata": {},
   "outputs": [
    {
     "data": {
      "text/plain": [
       "list"
      ]
     },
     "execution_count": 14,
     "metadata": {},
     "output_type": "execute_result"
    }
   ],
   "source": [
    "type(a)\n"
   ]
  },
  {
   "cell_type": "code",
   "execution_count": 15,
   "id": "78cede28-eb2c-4108-9d0f-d848c3cf981e",
   "metadata": {},
   "outputs": [
    {
     "data": {
      "text/plain": [
       "3"
      ]
     },
     "execution_count": 15,
     "metadata": {},
     "output_type": "execute_result"
    }
   ],
   "source": [
    "a.index(3)"
   ]
  },
  {
   "cell_type": "code",
   "execution_count": 17,
   "id": "b087879a-e1a4-429c-b9e0-cff48af30ecb",
   "metadata": {},
   "outputs": [
    {
     "name": "stdout",
     "output_type": "stream",
     "text": [
      "[1, 3, 4, 5, 8]\n"
     ]
    }
   ],
   "source": [
    "a.sort()\n",
    "print(a)"
   ]
  },
  {
   "cell_type": "code",
   "execution_count": 20,
   "id": "ff9d847f-6273-4c23-a0d8-24cf613ed71f",
   "metadata": {},
   "outputs": [
    {
     "name": "stdout",
     "output_type": "stream",
     "text": [
      "[8, 5, 4, 3, 1]\n"
     ]
    }
   ],
   "source": [
    "print(a[::-1])"
   ]
  },
  {
   "cell_type": "code",
   "execution_count": 25,
   "id": "42f0a68f-9e68-475a-8e85-ae81bbd80d83",
   "metadata": {},
   "outputs": [
    {
     "name": "stdout",
     "output_type": "stream",
     "text": [
      "['apple', 'blackcurrant', 'watermelon', 'cherry']\n"
     ]
    }
   ],
   "source": [
    "thislist = [\"apple\", \"banana\", \"cherry\"]\n",
    "thislist[1:2] = [\"blackcurrant\", \"watermelon\"]\n",
    "print(thislist) "
   ]
  },
  {
   "cell_type": "code",
   "execution_count": 26,
   "id": "2c35997e-5318-4055-8c08-b1b3434329a5",
   "metadata": {},
   "outputs": [
    {
     "name": "stdout",
     "output_type": "stream",
     "text": [
      "[1, 10, 2, 3, 4]\n"
     ]
    }
   ],
   "source": [
    "p=[1,2,3,4]\n",
    "p.insert(1,10)\n",
    "print(p)"
   ]
  },
  {
   "cell_type": "code",
   "execution_count": 29,
   "id": "6e434fa1-5141-4d34-b0ca-34fe9dafd49f",
   "metadata": {},
   "outputs": [
    {
     "data": {
      "text/plain": [
       "list"
      ]
     },
     "execution_count": 29,
     "metadata": {},
     "output_type": "execute_result"
    }
   ],
   "source": [
    "s=[1,2,3,3,2,1]\n",
    "type(s)"
   ]
  },
  {
   "cell_type": "code",
   "execution_count": 30,
   "id": "fb40e3a1-8f28-46f3-81c9-92a6f81883d3",
   "metadata": {},
   "outputs": [
    {
     "name": "stdout",
     "output_type": "stream",
     "text": [
      "[1, 2, 3, 3, 2, 1]\n"
     ]
    }
   ],
   "source": [
    "print(s)"
   ]
  },
  {
   "cell_type": "code",
   "execution_count": 31,
   "id": "8319babf-b009-406b-9604-7461ef9b7d6d",
   "metadata": {},
   "outputs": [
    {
     "name": "stdout",
     "output_type": "stream",
     "text": [
      "{1, 2, 3}\n"
     ]
    }
   ],
   "source": [
    "q=set(s)\n",
    "print(q)"
   ]
  },
  {
   "cell_type": "code",
   "execution_count": 36,
   "id": "6328b865-80b2-42da-aa6e-48a3a6bb4f83",
   "metadata": {},
   "outputs": [
    {
     "name": "stdout",
     "output_type": "stream",
     "text": [
      "['1', '2.5', '3', 'apple', 'banana']\n"
     ]
    }
   ],
   "source": [
    "my_list = [3, 'apple', 2.5, 'banana', 1]\n",
    "str_list = [str(item) for item in my_list]\n",
    "str_list.sort()\n",
    "print(str_list)"
   ]
  },
  {
   "cell_type": "code",
   "execution_count": 37,
   "id": "374bab62-f674-49d9-ba76-66fbe2863432",
   "metadata": {},
   "outputs": [
    {
     "name": "stdout",
     "output_type": "stream",
     "text": [
      "{'brand': 'Ford', 'model': 'Mustang', 'year': 1964}\n"
     ]
    }
   ],
   "source": [
    "thisdict = {\n",
    "  \"brand\": \"Ford\",\n",
    "  \"model\": \"Mustang\",\n",
    "  \"year\": 1964\n",
    "}\n",
    "print(thisdict)"
   ]
  },
  {
   "cell_type": "code",
   "execution_count": 39,
   "id": "f3955ee4-158e-4d0c-b6bc-5b8f004f4a63",
   "metadata": {},
   "outputs": [
    {
     "name": "stdout",
     "output_type": "stream",
     "text": [
      "Array from list: [1 2 3 4 5]\n",
      "Array from tuple: [10 20 30 40 50]\n"
     ]
    }
   ],
   "source": [
    "#1. i) Write a program to convert a list and tuple into arrays\n",
    "import numpy as np\n",
    "my_list = [1, 2, 3, 4, 5]\n",
    "my_tuple = (10, 20, 30, 40, 50)\n",
    "list_array = np.array(my_list)\n",
    "tuple_array = np.array(my_tuple)\n",
    "print(\"Array from list:\", list_array)\n",
    "print(\"Array from tuple:\", tuple_array)\n"
   ]
  },
  {
   "cell_type": "code",
   "execution_count": null,
   "id": "b801170c-4245-4834-a8d5-4995c7ee7adb",
   "metadata": {},
   "outputs": [],
   "source": []
  },
  {
   "cell_type": "code",
   "execution_count": 40,
   "id": "86f3b3cd-e3e8-47f7-b732-71994ad89b52",
   "metadata": {},
   "outputs": [
    {
     "name": "stdout",
     "output_type": "stream",
     "text": [
      "Common values: [4, 5]\n"
     ]
    }
   ],
   "source": [
    "#1 ii)Write a program to find common values between two arrays\n",
    "list1 = [1, 2, 3, 4, 5]\n",
    "list2 = [4, 5, 6, 7, 8]\n",
    "\n",
    "set1 = set(list1)\n",
    "set2 = set(list2)\n",
    "\n",
    "common_values = set1 & set2\n",
    "\n",
    "common_values_list = list(common_values)\n",
    "\n",
    "print(\"Common values:\", common_values_list)\n"
   ]
  },
  {
   "cell_type": "code",
   "execution_count": 41,
   "id": "49725a9e-d327-4492-b557-03d4b8609192",
   "metadata": {},
   "outputs": [
    {
     "name": "stdout",
     "output_type": "stream",
     "text": [
      "The GCD of 48 and 18 is 6\n"
     ]
    }
   ],
   "source": [
    "#2. Write a function called gcd that takes parameters a and b and returns their greatest common divisor\n",
    "import math\n",
    "\n",
    "def gcd(a, b):\n",
    "    return math.gcd(a, b)\n",
    "\n",
    "num1 = 48\n",
    "num2 = 18\n",
    "print(f\"The GCD of {num1} and {num2} is {gcd(num1, num2)}\")\n"
   ]
  },
  {
   "cell_type": "code",
   "execution_count": 42,
   "id": "9e53aed9-e2a6-4f67-8c2c-c753d10caa7c",
   "metadata": {},
   "outputs": [
    {
     "name": "stdout",
     "output_type": "stream",
     "text": [
      "palindrome\n"
     ]
    }
   ],
   "source": [
    "#3.Palindrome\n",
    "def palindrome(s):\n",
    "    s = s.lower()\n",
    "    s = s.replace(\" \", \"\")\n",
    "    s1=s[::-1]\n",
    "    if s==s1:\n",
    "        print(\"palindrome\")\n",
    "    else:\n",
    "        print(\"not palindrome\")\n",
    "\n",
    "test_string = \"racecar\"\n",
    "palindrome(test_string)"
   ]
  },
  {
   "cell_type": "code",
   "execution_count": 43,
   "id": "053db5de-c6a7-4fde-aa94-2964ed970ddc",
   "metadata": {},
   "outputs": [
    {
     "name": "stdout",
     "output_type": "stream",
     "text": [
      "MEAN= 38.57142857142857\n",
      "MEDIAN= 40\n",
      "MODE= 60\n"
     ]
    }
   ],
   "source": [
    "#4. Find mean, median, mode for the given set of numbers in a list.\n",
    "import statistics\n",
    "list3=[10,20,30,40,50,60,60]\n",
    "list3_mean=statistics.mean(list3)\n",
    "list3_median=statistics.median(list3)\n",
    "list3_mode=statistics.mode(list3)\n",
    "print(f\"MEAN= {list3_mean}\")\n",
    "print(f\"MEDIAN= {list3_median}\")\n",
    "print(f\"MODE= {list3_mode}\")"
   ]
  },
  {
   "cell_type": "code",
   "execution_count": 49,
   "id": "8f2cab41-e2aa-494f-943d-ed74f052db85",
   "metadata": {},
   "outputs": [
    {
     "name": "stdout",
     "output_type": "stream",
     "text": [
      "(478, 456, 98)\n",
      "<class 'tuple'>\n"
     ]
    }
   ],
   "source": [
    "# 5. Write a Python program to create a tuple.\n",
    "tuple1=(478,456,98)\n",
    "print(tuple1)\n",
    "print(type(tuple1))\n"
   ]
  },
  {
   "cell_type": "code",
   "execution_count": 51,
   "id": "f802ac4d-72ff-49aa-b9bf-6726f570deb8",
   "metadata": {},
   "outputs": [
    {
     "name": "stdout",
     "output_type": "stream",
     "text": [
      "('hello', 123, True)\n"
     ]
    }
   ],
   "source": [
    "# 6. Write a Python program to create a tuple with different data types.\n",
    "tuple2=(\"hello\",123,True)\n",
    "print(tuple2)"
   ]
  },
  {
   "cell_type": "code",
   "execution_count": 52,
   "id": "a5fb429c-479c-4ca4-ad1a-79500533b392",
   "metadata": {},
   "outputs": [
    {
     "name": "stdout",
     "output_type": "stream",
     "text": [
      "True\n"
     ]
    }
   ],
   "source": [
    "# 7. Write a Python program to check whether an element exists within a tuple.\n",
    "tuple3=(\"hi\",1,2,3,False)\n",
    "print(\"hi\" in tuple3)"
   ]
  },
  {
   "cell_type": "code",
   "execution_count": null,
   "id": "282d6bfd-2499-46b5-82a5-3f6893d894aa",
   "metadata": {},
   "outputs": [],
   "source": []
  }
 ],
 "metadata": {
  "kernelspec": {
   "display_name": "Python 3 (ipykernel)",
   "language": "python",
   "name": "python3"
  },
  "language_info": {
   "codemirror_mode": {
    "name": "ipython",
    "version": 3
   },
   "file_extension": ".py",
   "mimetype": "text/x-python",
   "name": "python",
   "nbconvert_exporter": "python",
   "pygments_lexer": "ipython3",
   "version": "3.12.4"
  }
 },
 "nbformat": 4,
 "nbformat_minor": 5
}
