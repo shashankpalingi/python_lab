{
 "cells": [
  {
   "cell_type": "code",
   "execution_count": 1,
   "id": "eab33cee-ba97-44a5-8b87-51d6accad16c",
   "metadata": {},
   "outputs": [
    {
     "name": "stdout",
     "output_type": "stream",
     "text": [
      "enter a number 34\n",
      "enter a number 2\n"
     ]
    },
    {
     "name": "stdout",
     "output_type": "stream",
     "text": [
      "add: 36\n",
      "sub: 32\n",
      "multiplication: 68\n",
      "division: 17.0\n"
     ]
    }
   ],
   "source": [
    "#2. Start a Python interpreter and use it as a Calculator.\n",
    "#Calculator\n",
    "a=int(input(\"enter a number\"))\n",
    "b=int(input(\"enter a number\"))\n",
    "print(\"add:\",a+b)\n",
    "print(\"sub:\",a-b)\n",
    "print(\"multiplication:\",a*b)\n",
    "print(\"division:\",a/b)\n"
   ]
  },
  {
   "cell_type": "code",
   "execution_count": 2,
   "id": "e9f33abf-fdc4-44dd-9413-0ecc9d51b4f6",
   "metadata": {},
   "outputs": [
    {
     "ename": "IndentationError",
     "evalue": "unexpected indent (40860626.py, line 4)",
     "output_type": "error",
     "traceback": [
      "\u001b[1;36m  Cell \u001b[1;32mIn[2], line 4\u001b[1;36m\u001b[0m\n\u001b[1;33m    b=2\u001b[0m\n\u001b[1;37m    ^\u001b[0m\n\u001b[1;31mIndentationError\u001b[0m\u001b[1;31m:\u001b[0m unexpected indent\n"
     ]
    }
   ],
   "source": [
    "#3. Write a program to purposefully raise Indentation Error and correct it.\n",
    "#Indentation Error \n",
    "a=5\n",
    "b=2\n",
    "print(\"add:\",a+b)\n"
   ]
  },
  {
   "cell_type": "code",
   "execution_count": 5,
   "id": "9bfdb77c-4d9e-4c69-8e3d-6073219392a9",
   "metadata": {},
   "outputs": [
    {
     "name": "stdout",
     "output_type": "stream",
     "text": [
      "7\n"
     ]
    }
   ],
   "source": [
    "#correct program\n",
    "a=5\n",
    "b=2\n",
    "print(a+b)"
   ]
  },
  {
   "cell_type": "code",
   "execution_count": 6,
   "id": "ee0d28fb-e0e7-4da2-922d-98b4d8ec47fb",
   "metadata": {},
   "outputs": [
    {
     "name": "stdout",
     "output_type": "stream",
     "text": [
      "amount after time period 1061.208\n",
      "compound intrest: 61.208000000000084\n"
     ]
    }
   ],
   "source": [
    "#4. i) Write a program to calculate compound interest when principal, rate and number\n",
    "#of periods are given.\n",
    "\n",
    "#compound interest\n",
    "#p=principle,r=rate,t=time period,CI=compound interest,A=amount after time period\n",
    "p=1000\n",
    "r=2\n",
    "t=3\n",
    "A=p*((1+r/100)**t)\n",
    "CI=A-p\n",
    "print(\"amount after time period\",A)\n",
    "print(\"compound intrest:\",CI)\n"
   ]
  },
  {
   "cell_type": "code",
   "execution_count": 7,
   "id": "094840db-72f5-44c4-9502-dc25bf949952",
   "metadata": {},
   "outputs": [
    {
     "name": "stdout",
     "output_type": "stream",
     "text": [
      "enter the x1 value 3\n",
      "enter the x2 value 5\n",
      "enter the y1 value 8\n",
      "enter the y2 value 5\n"
     ]
    },
    {
     "name": "stdout",
     "output_type": "stream",
     "text": [
      "distance between two given points is  3.605551275463989\n"
     ]
    }
   ],
   "source": [
    "#ii) Given coordinates (x1, y1), (x2, y2) find the distance between two points\n",
    "#Program:\n",
    "x1=int(input(\"enter the x1 value\"))\n",
    "x2=int(input(\"enter the x2 value\"))\n",
    "y1=int(input(\"enter the y1 value\"))\n",
    "y2=int(input(\"enter the y2 value\"))\n",
    "d=((x1-x2)**2+(y1-y2)**2)**(1/2)\n",
    "print(\"distance between two given points is \",d)\n"
   ]
  },
  {
   "cell_type": "code",
   "execution_count": null,
   "id": "5f8395d4-5bb2-43af-82bf-2cf064f1cb59",
   "metadata": {},
   "outputs": [],
   "source": [
    "#5. Read name, address, email and phone number of a person through keyboard and\n",
    "#print the details.\n",
    "#Program:\n",
    "name=input(\"enter your name  \")\n",
    "email_id=input(\"enter your email-id  :\")\n",
    "phone_no=int(input(\"enter your phone number  :\"))\n",
    "address=input(\"enter your address :\")\n",
    "print(\"Name:\",name)\n",
    "print(\"Email-id:\",email_id)\n",
    "print(\"Phone-no:\",phone_no)\n",
    "print(\"Address:\",address)\n"
   ]
  },
  {
   "cell_type": "code",
   "execution_count": null,
   "id": "12cd1224-7d31-4f43-85d3-9a4e20f57ad7",
   "metadata": {},
   "outputs": [],
   "source": []
  }
 ],
 "metadata": {
  "kernelspec": {
   "display_name": "Python 3 (ipykernel)",
   "language": "python",
   "name": "python3"
  },
  "language_info": {
   "codemirror_mode": {
    "name": "ipython",
    "version": 3
   },
   "file_extension": ".py",
   "mimetype": "text/x-python",
   "name": "python",
   "nbconvert_exporter": "python",
   "pygments_lexer": "ipython3",
   "version": "3.12.3"
  }
 },
 "nbformat": 4,
 "nbformat_minor": 5
}
