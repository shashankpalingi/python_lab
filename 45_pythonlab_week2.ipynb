{
 "cells": [
  {
   "cell_type": "code",
   "execution_count": 2,
   "id": "3081bbcd-7cc1-4d15-bab2-62c627f430ff",
   "metadata": {},
   "outputs": [
    {
     "name": "stdout",
     "output_type": "stream",
     "text": [
      "5 \n",
      "4 4 \n",
      "3 3 3 \n",
      "2 2 2 2 \n",
      "1 1 1 1 1 \n"
     ]
    }
   ],
   "source": [
    "#1. Print the below triangle using for loop.\n",
    "#5\n",
    "#4 4\n",
    "#3 3 3\n",
    "#2 2 2 2\n",
    "#1 1 1 1 1\n",
    "\n",
    "\n",
    "num_rows = 5\n",
    "for i in range(num_rows, 0, -1):\n",
    "    for j in range(num_rows+1,i,-1):\n",
    "        print(i, end=' ')\n",
    "    print()"
   ]
  },
  {
   "cell_type": "code",
   "execution_count": 3,
   "id": "1ddabb4f-4668-45f8-8a87-d3ea2038f1ff",
   "metadata": {},
   "outputs": [
    {
     "name": "stdin",
     "output_type": "stream",
     "text": [
      "Give input: s\n"
     ]
    },
    {
     "name": "stdout",
     "output_type": "stream",
     "text": [
      "s is lowercase\n"
     ]
    }
   ],
   "source": [
    "#2.Write a program to check whether the given input is digit or lowercase character or uppercase \n",
    "a=input(\"Give input:\")\n",
    "if a>='A' and a<='Z':\n",
    "    print(a,\"is Uppercase\")\n",
    "elif a>='a' and a<='z':\n",
    "    print(a,\"is lowercase\")\n",
    "elif a>=\"1\" and a<=\"9\":\n",
    "    print(a,\"is a digit\")\n",
    "else:\n",
    "    print(a,\"is a special character\")"
   ]
  },
  {
   "cell_type": "code",
   "execution_count": 4,
   "id": "a100da7c-85de-463b-ac7b-1d6d9d163bbc",
   "metadata": {},
   "outputs": [
    {
     "name": "stdout",
     "output_type": "stream",
     "text": [
      "0 1 1 2 3 5 8 13 21 34 "
     ]
    }
   ],
   "source": [
    "#3. Python Program to Print the Fibonacci sequence using while loop\n",
    "n= 10\n",
    "a, b = 0, 1\n",
    "count = 0\n",
    "while count < n:\n",
    "    print(a, end=' ')\n",
    "    a, b = b, a + b\n",
    "    count += 1"
   ]
  },
  {
   "cell_type": "code",
   "execution_count": 6,
   "id": "60d2d49b-8c55-4cf0-9dca-01f38e34dd45",
   "metadata": {},
   "outputs": [
    {
     "name": "stdin",
     "output_type": "stream",
     "text": [
      "Enter the start of the interval:  2\n",
      "Enter the end of the interval:  15\n"
     ]
    },
    {
     "name": "stdout",
     "output_type": "stream",
     "text": [
      "2\n",
      "3\n",
      "5\n",
      "7\n",
      "11\n",
      "13\n"
     ]
    }
   ],
   "source": [
    "#4.Python program to print all prime numbers in a given interval (use break)\n",
    "\n",
    "def print_primes(start, end):\n",
    "    for num in range(start, end + 1):\n",
    "        if num > 1:  # prime numbers are greater than 1\n",
    "            for i in range(2, num):\n",
    "                if num % i == 0:  # if num is divisible by any number between 2 and num-1, it's not prime\n",
    "                    break\n",
    "            else:  # if the loop completes without finding a divisor, num is prime\n",
    "                print(num)\n",
    "\n",
    "start_interval = int(input(\"Enter the start of the interval: \"))\n",
    "end_interval = int(input(\"Enter the end of the interval: \"))\n",
    "\n",
    "print_primes(start_interval, end_interval)"
   ]
  },
  {
   "cell_type": "code",
   "execution_count": 7,
   "id": "a1865a5e-0de0-43fd-8283-d58e434fa801",
   "metadata": {},
   "outputs": [
    {
     "name": "stdin",
     "output_type": "stream",
     "text": [
      " 67\n",
      " 89\n"
     ]
    },
    {
     "name": "stdout",
     "output_type": "stream",
     "text": [
      "5963\n"
     ]
    }
   ],
   "source": [
    "#5.Write a program to compute LCM of two numbers by taking input from the user\n",
    "import math\n",
    "a=int(input())\n",
    "b=int(input())\n",
    "c=math.lcm(a,b)\n",
    "print(c)"
   ]
  },
  {
   "cell_type": "code",
   "execution_count": null,
   "id": "1a5f4eb7-9ee6-416c-a12e-c211ec30c8d5",
   "metadata": {},
   "outputs": [],
   "source": [
    "# 6. Write a program add.py that takes 2 numbers as command line arguments and print its sum\n",
    "\n",
    "import sys\n",
    "\n",
    "# Check if the correct number of command line arguments are provided\n",
    "if len(sys.argv) != 3:\n",
    "    print(\"Usage: python add.py <number1> <number2>\")\n",
    "    sys.exit(1)\n",
    "\n",
    "# Convert the command line arguments to integers\n",
    "num1 = int(sys.argv[1])\n",
    "num2 = int(sys.argv[2])\n",
    "\n",
    "# Calculate and print the sum\n",
    "sum = num1 + num2\n",
    "print(\"The sum of\", num1, \"and\", num2, \"is\", sum)"
   ]
  }
 ],
 "metadata": {
  "kernelspec": {
   "display_name": "Python 3 (ipykernel)",
   "language": "python",
   "name": "python3"
  },
  "language_info": {
   "codemirror_mode": {
    "name": "ipython",
    "version": 3
   },
   "file_extension": ".py",
   "mimetype": "text/x-python",
   "name": "python",
   "nbconvert_exporter": "python",
   "pygments_lexer": "ipython3",
   "version": "3.12.3"
  }
 },
 "nbformat": 4,
 "nbformat_minor": 5
}
